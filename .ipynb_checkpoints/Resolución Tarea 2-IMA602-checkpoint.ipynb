{
 "cells": [
  {
   "cell_type": "markdown",
   "id": "6c92cfcd",
   "metadata": {},
   "source": [
    "\n",
    "<center>\n",
    "<img src=\"https://upload.wikimedia.org/wikipedia/commons/2/2a/Logo_Nuevo_Ufro.jpg\" alt=\"Logo de la Universidad de La Frontera\" style=\"float: right; width: 100px;\">\n",
    "</center>\n"
   ]
  },
  {
   "cell_type": "markdown",
   "id": "439374a4",
   "metadata": {},
   "source": [
    "<center>\n",
    "    <h1 style=\"font-size: 24px\">Resolución Tarea 2 IMA602: Herramientas Básicas para el Análisis de Datos</h1>  \n",
    "</center>  \n",
    "<br>\n",
    "<center>\n",
    "<strong>Nombre:</strong> Natalia Moreira<br>\n",
    "<strong>Profesora:</strong> Dra. Darlin Soto<br>\n",
    "<strong>Fecha:</strong> 29 de abril de 2023\n",
    "</span>\n",
    "\n",
    "</center>"
   ]
  },
  {
   "cell_type": "markdown",
   "id": "179e84df",
   "metadata": {},
   "source": [
    "## Parte 1:  En búsqueda del auto de tus sueños"
   ]
  },
  {
   "cell_type": "code",
   "execution_count": 2,
   "id": "8c89e112",
   "metadata": {},
   "outputs": [
    {
     "name": "stdout",
     "output_type": "stream",
     "text": [
      "Ingrese el costo del auto: 10000000\n",
      "Ingrese su salario mensual: 1200000\n",
      "Ingrese la proporción que va a ahorrar: 0.1\n",
      "Salario mensual:  1200000\n",
      "Porcentaje del salario mensual que voy a ahorrar:  0.1\n",
      "Costo del auto de mis sueños:  10000000\n",
      "Número de meses que debo ahorrar:  17\n"
     ]
    }
   ],
   "source": [
    "from numpy import *\n",
    "\n",
    "#Inicialización de Variables\n",
    "costo_auto= int(input(\"Ingrese el costo del auto: \"))\n",
    "proporcion_pago_inicial= 0.2\n",
    "ahorro_actual= 0\n",
    "salario_mensual= int(input(\"Ingrese su salario mensual: \"))\n",
    "proporcion_ahorrada= float(input(\"Ingrese la proporción que va a ahorrar: \"))\n",
    "meses = 0\n",
    "\n",
    "#Creamos la función Meses_De_Ahorro, que calculará y luego retornará la cant. de meses que me demoraré en ahorrar para el auto:\n",
    "\n",
    "def Meses_De_Ahorro_forma2(salario_mensual, proporcion_ahorrada, costo_auto):\n",
    "    global ahorro_actual\n",
    "    global meses\n",
    "    \n",
    "#La condición que debe cumplirse es que el ahorro_actual debe ser mayor al precio del pie del auto:\n",
    "\n",
    "    while ahorro_actual < proporcion_pago_inicial * costo_auto:\n",
    "        ahorro_actual += salario_mensual * proporcion_ahorrada\n",
    "        meses += 1\n",
    "\n",
    "    print(\"Salario mensual: \",salario_mensual)\n",
    "    print(\"Porcentaje del salario mensual que voy a ahorrar: \",proporcion_ahorrada)\n",
    "    print(\"Costo del auto de mis sueños: \",costo_auto)\n",
    "    print(\"Número de meses que debo ahorrar: \",meses)\n",
    "\n",
    "Meses_De_Ahorro_forma2(salario_mensual,proporcion_ahorrada,costo_auto) "
   ]
  },
  {
   "cell_type": "markdown",
   "id": "be448170",
   "metadata": {},
   "source": [
    "## Parte 2: Invirtiendo y ahorrando más"
   ]
  },
  {
   "cell_type": "code",
   "execution_count": 1,
   "id": "41786915",
   "metadata": {},
   "outputs": [
    {
     "name": "stdout",
     "output_type": "stream",
     "text": [
      "Ingrese el costo del auto: 20000000\n",
      "Ingrese su salario mensual: 1000000\n",
      "Ingrese la proporción que va a ahorrar: 0.2\n",
      "Salario mensual: 1000000\n",
      "Porcentaje del salario mensual que voy a ahorrar: 0.2\n",
      "Costo del auto de mis sueños: 20000000\n",
      "Rendimiento mensual de la inversión: 0.1\n",
      "Número de meses que debo ahorrar: 12\n"
     ]
    }
   ],
   "source": [
    "#Resolución Tarea2 IMA602 parte 2\n",
    "\n",
    "#Inicialización de Variables\n",
    "costo_auto = int(input(\"Ingrese el costo del auto: \"))\n",
    "proporcion_pago_inicial = 0.2\n",
    "ahorro_actual = 0\n",
    "salario_mensual = int(input(\"Ingrese su salario mensual: \"))\n",
    "proporcion_ahorrada = float(input(\"Ingrese la proporción que va a ahorrar: \"))\n",
    "meses = 0\n",
    "r = 0.1 \n",
    "\n",
    "def ahorro_auto_inv(salario_mensual, proporcion_ahorrada, costo_auto):\n",
    "    global ahorro_actual\n",
    "    global meses\n",
    "    global r\n",
    "    \n",
    "    while ahorro_actual < proporcion_pago_inicial * costo_auto:\n",
    "        ahorro_actual += ahorro_actual * r  # Ganancias de la inversión\n",
    "        ahorro_actual += salario_mensual * proporcion_ahorrada\n",
    "        meses += 1\n",
    "\n",
    "    print(\"Salario mensual:\", salario_mensual)\n",
    "    print(\"Porcentaje del salario mensual que voy a ahorrar:\", proporcion_ahorrada)\n",
    "    print(\"Costo del auto de mis sueños:\", costo_auto)\n",
    "    print(\"Rendimiento mensual de la inversión:\", r)\n",
    "    print(\"Número de meses que debo ahorrar:\", meses)\n",
    "\n",
    "ahorro_auto_inv(salario_mensual, proporcion_ahorrada, costo_auto)"
   ]
  },
  {
   "cell_type": "markdown",
   "id": "28317f12",
   "metadata": {},
   "source": [
    "## Parte 3: Ahorrando con un aumento de salario"
   ]
  },
  {
   "cell_type": "code",
   "execution_count": null,
   "id": "4d98a246",
   "metadata": {},
   "outputs": [],
   "source": []
  }
 ],
 "metadata": {
  "kernelspec": {
   "display_name": "Python 3 (ipykernel)",
   "language": "python",
   "name": "python3"
  },
  "language_info": {
   "codemirror_mode": {
    "name": "ipython",
    "version": 3
   },
   "file_extension": ".py",
   "mimetype": "text/x-python",
   "name": "python",
   "nbconvert_exporter": "python",
   "pygments_lexer": "ipython3",
   "version": "3.10.9"
  }
 },
 "nbformat": 4,
 "nbformat_minor": 5
}
